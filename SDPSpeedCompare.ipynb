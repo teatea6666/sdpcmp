{
 "cells": [
  {
   "cell_type": "markdown",
   "metadata": {},
   "source": [
    "# PICOS vs. CVXPY SDP実行速度比較"
   ]
  },
  {
   "cell_type": "markdown",
   "metadata": {},
   "source": [
    "## 0. 速度計測用関数"
   ]
  },
  {
   "cell_type": "code",
   "execution_count": null,
   "metadata": {},
   "outputs": [],
   "source": [
    "# PICOS\n",
    "import picos as pic\n",
    "import numpy as np\n",
    "\n",
    "def TestPicos(solver, n_matsize, tolerance):\n",
    "    # sdp object\n",
    "    sdp = pic.Problem(verbosity=0)\n",
    "    sdp.options[\"solver\"] = solver\n",
    "    sdp.options[\"*_tol\"] = tolerance\n",
    "    sdp.options[\"primals\"] = False\n",
    "    \n",
    "    # constant matrix\n",
    "    A = np.random.randn(n_matsize, n_matsize)\n",
    "    # variable matrix\n",
    "    P = pic.SymmetricVariable('P', (n_matsize, n_matsize))\n",
    "    # objective\n",
    "    sdp.set_objective(\"min\", pic.trace(P))\n",
    "    # constraint\n",
    "    sdp.add_constraint(P >> 1e-08*np.eye(n_matsize))\n",
    "    sdp.add_constraint(P*A + A.T*P << -np.eye(n_matsize))\n",
    "    # solve\n",
    "    sdp.solve()\n",
    "\n",
    "# CVXPY\n",
    "import cvxpy as cp\n",
    "\n",
    "def TestCvxpy(solver, n_matsize, tolerance):\n",
    "    # constant matrix\n",
    "    A = np.random.randn(n_matsize, n_matsize)\n",
    "    # variable matrix\n",
    "    P = cp.Variable((n_matsize,n_matsize), symmetric=True)\n",
    "    # constraint\n",
    "    constraint = [P >> 1e-08*np.eye(n_matsize)]\n",
    "    constraint += [P@A + A.T@P << -np.eye(n_matsize)]\n",
    "    # sdp object\n",
    "    prob = cp.Problem(cp.Minimize(cp.trace(P)), constraint)\n",
    "    prob.solver = solver\n",
    "    prob.eps = tolerance\n",
    "    # solve\n",
    "    prob.solve()\n",
    "\n",
    "# others\n",
    "def makePlottable(captured_timit_result):\n",
    "    # timeitの出力を加工してリストで返しプロットできるようにする関数\n",
    "    values = []\n",
    "    stds = []\n",
    "    results = captured_timit_result.stdout.split('\\n')\n",
    "    for res in results[:-1]:\n",
    "        value, vunit, pm, std, sunit = res.split()[:5]\n",
    "        value = float(value) * {\"s\": 1, \"ms\": 1e-3, \"us\": 1e-6, \"ns\": 1e-9}[vunit]\n",
    "        values.append(value)\n",
    "        std = float(std) * {\"s\": 1, \"ms\": 1e-3, \"us\": 1e-6, \"ns\": 1e-9}[sunit]\n",
    "        stds.append(std)\n",
    "    return values, stds"
   ]
  },
  {
   "cell_type": "markdown",
   "metadata": {},
   "source": [
    "## 1. 行列のサイズを変化させて比較\n",
    "1-1. 速度計測"
   ]
  },
  {
   "cell_type": "code",
   "execution_count": null,
   "metadata": {},
   "outputs": [],
   "source": [
    "N = 20 # maximun size of matrix\n",
    "matsizes = range(1,N+1)\n",
    "tolerance = 1e-08"
   ]
  },
  {
   "cell_type": "code",
   "execution_count": null,
   "metadata": {},
   "outputs": [],
   "source": [
    "%%capture result_picos_cvxopt\n",
    "TestPicosCvxoptMatsize = lambda n: TestPicos(\"cvxopt\", n, tolerance)\n",
    "for n in matsizes:\n",
    "    %timeit -r 10 -n 30 -o TestPicosCvxoptMatsize(n)"
   ]
  },
  {
   "cell_type": "code",
   "execution_count": null,
   "metadata": {},
   "outputs": [],
   "source": [
    "%%capture result_picos_mosek\n",
    "TestPicosMosekMatsize = lambda n: TestPicos(\"mosek\", n, tolerance)\n",
    "for n in matsizes:\n",
    "    %timeit -r 10 -n 30  TestPicosMosekMatsize(n)"
   ]
  },
  {
   "cell_type": "code",
   "execution_count": null,
   "metadata": {},
   "outputs": [],
   "source": [
    "%%capture result_cvxpy_cvxopt\n",
    "TestCvxpyCvxoptMatsize = lambda n: TestCvxpy(\"cvxopt\", n, tolerance)\n",
    "for n in matsizes:\n",
    "    %timeit -r 10 -n 30 TestCvxpyCvxoptMatsize(n)"
   ]
  },
  {
   "cell_type": "code",
   "execution_count": null,
   "metadata": {},
   "outputs": [],
   "source": [
    "%%capture result_cvxpy_mosek\n",
    "TestCvxpyMosekMatsize = lambda n: TestCvxpy(\"mosek\", n, tolerance)\n",
    "for n in matsizes:\n",
    "    %timeit -r 10 -n 30 TestCvxpyMosekMatsize(n)"
   ]
  },
  {
   "cell_type": "code",
   "execution_count": null,
   "metadata": {},
   "outputs": [],
   "source": [
    "%%capture result_cvxpy_scs\n",
    "TestCvxpyScsMatsize = lambda n: TestCvxpy(\"scs\", n, tolerance)\n",
    "for n in matsizes:\n",
    "    %timeit -r 10 -n 30 TestCvxpyScsMatsize(n)"
   ]
  },
  {
   "cell_type": "markdown",
   "metadata": {},
   "source": [
    "1-2. プロット"
   ]
  },
  {
   "cell_type": "code",
   "execution_count": null,
   "metadata": {},
   "outputs": [],
   "source": [
    "import matplotlib.pyplot as plt\n",
    "\n",
    "# New Figure\n",
    "fig = plt.figure()\n",
    "\n",
    "# New Axis\n",
    "ax = fig.add_subplot(111)\n",
    "\n",
    "# picos x cvxopt\n",
    "x = np.linspace(1,N,N)\n",
    "values, stds = makePlottable(result_picos_cvxopt)\n",
    "plt.errorbar(x, values, yerr=stds, label='PICOS x CVXOPT', marker='.')\n",
    "\n",
    "# picos x mosek\n",
    "values, stds = makePlottable(result_picos_mosek)\n",
    "plt.errorbar(x, values, yerr=stds, label='PICOS x MOSEK', marker='o')\n",
    "\n",
    "# cvxpy x cvxopt\n",
    "values, stds = makePlottable(result_cvxpy_cvxopt)\n",
    "plt.errorbar(x, values, yerr=stds, label='CVXPY x CVXOPT', marker='v')\n",
    "\n",
    "# cvxpy x mosek\n",
    "values, stds = makePlottable(result_cvxpy_mosek)\n",
    "plt.errorbar(x, values, yerr=stds, label='CVXPY x MOSEK', marker='<')\n",
    "\n",
    "# cvxpy x scs\n",
    "values, stds = makePlottable(result_cvxpy_scs)\n",
    "plt.errorbar(x, values, yerr=stds, label='CVXPY x SCS', marker='>')\n",
    "\n",
    "# order figure\n",
    "ax.set_xticks(x)\n",
    "plt.rcParams[\"font.size\"] = 10\n",
    "plt.rcParams[\"lines.markersize\"] = 6\n",
    "plt.legend(bbox_to_anchor=(1.05, 1), loc='upper left', fontsize=16);\n",
    "plt.xlabel('Size of Matrix', fontsize=24)\n",
    "plt.ylabel('Time [sec]', fontsize=24)\n",
    "\n",
    "plt.savefig(\"matsize.jpg\", bbox_inches=\"tight\")"
   ]
  },
  {
   "cell_type": "markdown",
   "metadata": {},
   "source": [
    "# 2. 許容誤差を変化させて比較\n",
    "2-1. 速度計測"
   ]
  },
  {
   "cell_type": "code",
   "execution_count": null,
   "metadata": {},
   "outputs": [],
   "source": [
    "n_matsize = 2\n",
    "tolerances = [1e-04, 1e-06, 1e-08, 1e-10, 1e-12]"
   ]
  },
  {
   "cell_type": "code",
   "execution_count": null,
   "metadata": {},
   "outputs": [],
   "source": [
    "%%capture result_picos_cvxopt\n",
    "TestPicosCvxoptTolerance = lambda tol: TestPicos(\"cvxopt\", n_matsize, tol)\n",
    "for tol in tolerances:\n",
    "    %timeit -r 10 -n 300 TestPicosCvxoptTolerance(tol)"
   ]
  },
  {
   "cell_type": "code",
   "execution_count": null,
   "metadata": {},
   "outputs": [],
   "source": [
    "%%capture result_picos_mosek\n",
    "tolerances_pic_msk = [1e-04, 1e-06, 1e-08]\n",
    "TestPicosMosekTolerance = lambda n: TestPicos(\"mosek\", n_matsize, tol)\n",
    "for tol in tolerances_pic_msk:\n",
    "    %timeit -r 10 -n 300  TestPicosMosekTolerance(tol)\n",
    "# error if tolerance > 1e-08"
   ]
  },
  {
   "cell_type": "code",
   "execution_count": null,
   "metadata": {},
   "outputs": [],
   "source": [
    "%%capture result_cvxpy_cvxopt\n",
    "TestCvxpyCvxoptTolerance = lambda tol: TestCvxpy(\"cvxopt\", n_matsize, tol)\n",
    "for tol in tolerances:\n",
    "    %timeit -r 10 -n 300 TestCvxpyCvxoptTolerance(tol)"
   ]
  },
  {
   "cell_type": "code",
   "execution_count": null,
   "metadata": {},
   "outputs": [],
   "source": [
    "%%capture result_cvxpy_mosek\n",
    "TestCvxpyMosekTolerance = lambda tol: TestCvxpy(\"mosek\", n_matsize, tol)\n",
    "for tol in tolerances:\n",
    "    %timeit -r 10 -n 300 TestCvxpyMosekTolerance(tol)"
   ]
  },
  {
   "cell_type": "code",
   "execution_count": null,
   "metadata": {},
   "outputs": [],
   "source": [
    "%%capture result_cvxpy_scs\n",
    "TestCvxpyScsTolerance = lambda tol: TestCvxpy(\"scs\", n_matsize, tol)\n",
    "for tol in tolerances:\n",
    "    %timeit -r 10 -n 300 TestCvxpyScsTolerance(tol)"
   ]
  },
  {
   "cell_type": "markdown",
   "metadata": {},
   "source": [
    "2-2. プロット"
   ]
  },
  {
   "cell_type": "code",
   "execution_count": null,
   "metadata": {},
   "outputs": [],
   "source": [
    "import matplotlib.pyplot as plt\n",
    "\n",
    "# New Figure\n",
    "fig = plt.figure()\n",
    "\n",
    "# New Axis\n",
    "ax = fig.add_subplot(111)\n",
    "\n",
    "# picos x cvxopt\n",
    "x = tolerances\n",
    "values, stds = makePlottable(result_picos_cvxopt)\n",
    "plt.errorbar(x, values, yerr=stds, label='PICOS x CVXOPT', marker='.')\n",
    "\n",
    "# picos x mosek\n",
    "values, stds= makePlottable(result_picos_mosek)\n",
    "plt.errorbar(tolerances_pic_msk, values, yerr=stds, label='PICOS x MOSEK', marker='o')\n",
    "\n",
    "# cvxpy x cvxopt\n",
    "values, stds = makePlottable(result_cvxpy_cvxopt)\n",
    "plt.errorbar(x, values, yerr=stds, label='CVXPY x CVXOPT', marker='v')\n",
    "\n",
    "# cvxpy x mosek\n",
    "values, stds = makePlottable(result_cvxpy_mosek)\n",
    "plt.errorbar(x, values, yerr=stds, label='CVXPY x MOSEK', marker='<')\n",
    "\n",
    "# cvxpy x scs\n",
    "values, stds = makePlottable(result_cvxpy_scs)\n",
    "plt.errorbar(x, values, yerr=stds, label='CVXPY x SCS', marker='>')\n",
    "\n",
    "# order figure\n",
    "ax.set_xticks(x)\n",
    "plt.rcParams[\"font.size\"] = 10\n",
    "plt.rcParams[\"lines.markersize\"] = 16\n",
    "plt.legend(bbox_to_anchor=(1.05, 1), loc='upper left');\n",
    "plt.xscale('log')\n",
    "plt.xlabel('Tolerance', fontsize=24)\n",
    "plt.ylabel('Time [sec]', fontsize=24)\n",
    "plt.xlim(1e-04, 1e-12);\n",
    "\n",
    "plt.savefig('tolerance.jpg', bbox_inches=\"tight\")"
   ]
  }
 ],
 "metadata": {
  "kernelspec": {
   "display_name": "Python 3",
   "language": "python",
   "name": "python3"
  },
  "language_info": {
   "codemirror_mode": {
    "name": "ipython",
    "version": 3
   },
   "file_extension": ".py",
   "mimetype": "text/x-python",
   "name": "python",
   "nbconvert_exporter": "python",
   "pygments_lexer": "ipython3",
   "version": "3.7.4"
  }
 },
 "nbformat": 4,
 "nbformat_minor": 4
}
